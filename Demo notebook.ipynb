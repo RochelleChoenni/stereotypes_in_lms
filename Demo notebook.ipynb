{
 "cells": [
  {
   "cell_type": "code",
   "execution_count": 1,
   "metadata": {
    "scrolled": true
   },
   "outputs": [
    {
     "name": "stderr",
     "output_type": "stream",
     "text": [
      "/home/rochelle/anaconda3/lib/python3.7/site-packages/tensorflow/python/framework/dtypes.py:526: FutureWarning: Passing (type, 1) or '1type' as a synonym of type is deprecated; in a future version of numpy, it will be understood as (type, (1,)) / '(1,)type'.\n",
      "  _np_qint8 = np.dtype([(\"qint8\", np.int8, 1)])\n",
      "/home/rochelle/anaconda3/lib/python3.7/site-packages/tensorflow/python/framework/dtypes.py:527: FutureWarning: Passing (type, 1) or '1type' as a synonym of type is deprecated; in a future version of numpy, it will be understood as (type, (1,)) / '(1,)type'.\n",
      "  _np_quint8 = np.dtype([(\"quint8\", np.uint8, 1)])\n",
      "/home/rochelle/anaconda3/lib/python3.7/site-packages/tensorflow/python/framework/dtypes.py:528: FutureWarning: Passing (type, 1) or '1type' as a synonym of type is deprecated; in a future version of numpy, it will be understood as (type, (1,)) / '(1,)type'.\n",
      "  _np_qint16 = np.dtype([(\"qint16\", np.int16, 1)])\n",
      "/home/rochelle/anaconda3/lib/python3.7/site-packages/tensorflow/python/framework/dtypes.py:529: FutureWarning: Passing (type, 1) or '1type' as a synonym of type is deprecated; in a future version of numpy, it will be understood as (type, (1,)) / '(1,)type'.\n",
      "  _np_quint16 = np.dtype([(\"quint16\", np.uint16, 1)])\n",
      "/home/rochelle/anaconda3/lib/python3.7/site-packages/tensorflow/python/framework/dtypes.py:530: FutureWarning: Passing (type, 1) or '1type' as a synonym of type is deprecated; in a future version of numpy, it will be understood as (type, (1,)) / '(1,)type'.\n",
      "  _np_qint32 = np.dtype([(\"qint32\", np.int32, 1)])\n",
      "/home/rochelle/anaconda3/lib/python3.7/site-packages/tensorflow/python/framework/dtypes.py:535: FutureWarning: Passing (type, 1) or '1type' as a synonym of type is deprecated; in a future version of numpy, it will be understood as (type, (1,)) / '(1,)type'.\n",
      "  np_resource = np.dtype([(\"resource\", np.ubyte, 1)])\n",
      "/home/rochelle/anaconda3/lib/python3.7/site-packages/torch/cuda/__init__.py:52: UserWarning: CUDA initialization: Found no NVIDIA driver on your system. Please check that you have an NVIDIA GPU and installed a driver from http://www.nvidia.com/Download/index.aspx (Triggered internally at  /pytorch/c10/cuda/CUDAFunctions.cpp:100.)\n",
      "  return torch._C._cuda_getDeviceCount() > 0\n"
     ]
    }
   ],
   "source": [
    "# Import packages\n",
    "import matplotlib.pyplot as plt\n",
    "from IPython.display import display, HTML, clear_output, IFrame\n",
    "from ipywidgets import widgets, interactive, interact, Box\n",
    "\n",
    "# Import files\n",
    "from utils.study_stereotypes import get_shifts\n",
    "from probe_mlm import study_results_at_per_cat\n",
    "from visualizations.study_emotions import plot_emotion_vectors\n",
    "from visualizations.study_emotions_3D import pca_scatterplot_3D\n",
    "from rsa import comparison_across_models, comparison_within_models\n",
    "from utils.utils import search_engine_stereotypes, get_mlm_output, data_distr, get_tgt\n"
   ]
  },
  {
   "cell_type": "markdown",
   "metadata": {},
   "source": [
    "# Demo for studying stereotypes and emotions\n",
    "\n",
    "This demo notebook contains code for the experiments from the paper: `Stepmothers are mean and academics are pretentious: What do pretrained language models learn about you?`. The notebook contains interfaces for studying the following aspects of the paper:\n",
    "\n",
    "<ul>\n",
    "<li>Part 1: provides insight into the stereotypes dataset content</li>\n",
    "<li>Part 2: analyses the pretrained language model outputs and relates them to the stereotypes retrieved from the search engines</li>\n",
    "<li>Part 3: studies the emotion profiles within the models and compares those across models using RSA </li>\n",
    "<li>Part 4: uncovers emotion and specific stereotype shifts as a result of fine-tuning on different news sources </li>\n",
    "</ul>\n",
    "    "
   ]
  },
  {
   "cell_type": "code",
   "execution_count": 2,
   "metadata": {},
   "outputs": [
    {
     "data": {
      "text/html": [
       "<script>$(\"div.input\").hide()</script>"
      ],
      "text/plain": [
       "<IPython.core.display.HTML object>"
      ]
     },
     "metadata": {},
     "output_type": "display_data"
    },
    {
     "data": {
      "application/vnd.jupyter.widget-view+json": {
       "model_id": "5c0697625a8142939ebaf0cb8430b004",
       "version_major": 2,
       "version_minor": 0
      },
      "text/plain": [
       "ToggleButton(value=False, description='Show code')"
      ]
     },
     "metadata": {},
     "output_type": "display_data"
    },
    {
     "data": {
      "text/html": [
       "<script>$(\"div.input\").show()</script>"
      ],
      "text/plain": [
       "<IPython.core.display.HTML object>"
      ]
     },
     "metadata": {},
     "output_type": "display_data"
    }
   ],
   "source": [
    "# For autoreloading changes made in other python scripts\n",
    "%load_ext autoreload\n",
    "%autoreload 2\n",
    "\n",
    "javascript_functions = {False: \"hide()\", True: \"show()\"}\n",
    "button_descriptions  = {False: \"Show code\", True: \"Hide code\"}\n",
    "\n",
    "\n",
    "def toggle_code(state):\n",
    "\n",
    "    \"\"\"\n",
    "    Toggles the JavaScript show()/hide() function on the div.input element.\n",
    "    \"\"\"\n",
    "\n",
    "    output_string = \"<script>$(\\\"div.input\\\").{}</script>\"\n",
    "    output_args   = (javascript_functions[state],)\n",
    "    output        = output_string.format(*output_args)\n",
    "\n",
    "    display(HTML(output))\n",
    "\n",
    "\n",
    "def button_action(value):\n",
    "\n",
    "    \"\"\"\n",
    "    Calls the toggle_code function and updates the button description.\n",
    "    \"\"\"\n",
    "\n",
    "    state = value.new\n",
    "\n",
    "    toggle_code(state)\n",
    "\n",
    "    value.owner.description = button_descriptions[state]\n",
    "\n",
    "\n",
    "state = False\n",
    "toggle_code(state)\n",
    "\n",
    "button = widgets.ToggleButton(state, description = button_descriptions[state])\n",
    "button.observe(button_action, \"value\")\n",
    "\n",
    "display(button)"
   ]
  },
  {
   "cell_type": "markdown",
   "metadata": {},
   "source": [
    "## PART 1: Stereotypes from search engines\n",
    "\n",
    "Retrieve the stereotypical attributes of different social groups captured in the search engine dataset. To retrieve stereotypes, simply type in the social groups that you like to study from the following lists of categories: "
   ]
  },
  {
   "cell_type": "code",
   "execution_count": 3,
   "metadata": {},
   "outputs": [
    {
     "name": "stdout",
     "output_type": "stream",
     "text": [
      "\u001b[1mAge\u001b[0m : boomers, children, daughters, elders, kids, millenials, millennials, old people, old women, sons, teenagers, teens\n",
      "\n",
      "\u001b[1mCountry\u001b[0m : belgium, croatia, korea, laos, lebanon, liberia, malta, mexico, morocco, nepal, norway, oman, pakistan, paraguay, peru, poland, portugal, puerto rico, qatar, romania, russia, saudi arabia, scotland, sierra leon, singapore, somalia, south africa, spain, sudan, sweden, syria, taiwan, the netherlands, turkey, ukraine, venezuela, vietnam, yemen\n",
      "\n",
      "\u001b[1mGender\u001b[0m : boyfriends, boys, brothers, fathers, females, girlfriends, girls, grandmothers, husbands, ladies, males, men, mothers, sisters, stepfathers, stepmothers, wives, women\n",
      "\n",
      "\u001b[1mLifestyle\u001b[0m : californians, celebrities, criminals, frats, geeks, gingers, goths, hippies, hipsters, homeless people, nerds, poor people, punks, redheads, rich people, sorrority girls\n",
      "\n",
      "\u001b[1mPolitical\u001b[0m : conservatives, immigrants, liberals, trump supporters, voters\n",
      "\n",
      "\u001b[1mProfession\u001b[0m : academics, accountants, actors, actresses, analysts, architects, artists, assistants, athletes, attendants, attorneys, auditors, authors, bankers, barbers, bartenders, bosses, boxers, business people, butchers, carpenters, cashiers, chess players, chiefs, civil servants, cleaners, clerks, coaches, comedians, commanders, composers, construction workers, cooks, counselors, dancers, dentists, designers, detectives, diplomats, doctors, economists, editors, electricians, engineers, entrepreneurs, farmers, firefighters, football players, guards, guitarists, hairdressers, handymen, historians, janitors, journalists, judges, lawyers, librarians, maids, managers, mathematicians, mechanics, midwives, models, movers, musicians, nurses, opera singers, painters, pharmacists, photographers, physicists, pilots, plumbers, poets, police, police officers, politicians, priests, professors, prosecutors, psychologists, realtors, receptionists, sales people, scientists, secretaries, sheriffs, singers, soldiers, students, supervisors, swimmers, teachers, tennis players, waiters, writers\n",
      "\n",
      "\u001b[1mRace\u001b[0m : afghans, african americans, africans, americans, arabs, asian kids, asian parents, asian women, asians, aussies, australians, black americans, black fathers, black kids, black men, black parents, black people, black women, blacks, blondes, brazilian women, british people, chileans, chinese women, dutch, dutch people, egyptians, ethiopians, europeans, finns, french people, germans, ghanaians, greeks, hispanics, indian parents, indian women, indians, indonesians, iranian people, irish people, italians, jews, koreans, latin people, latinas, lebanese people, moroccans, native americans, nigerians, norwegians, persian people, polish people, romanians, russians, scots, somalis, sudanese people, swedes, syrians, taiwanese people, ukrainians, vietnamese people, white americans, white kids, white men, white parents, white people, white women, whites\n",
      "\n",
      "\u001b[1mReligion\u001b[0m : atheists, catholics, christians, mormons, muslims, protestants, religious people\n",
      "\n"
     ]
    },
    {
     "data": {
      "text/html": [
       "<style>\n",
       "    .widget-label { height: 6ex !important; }\n",
       "</style>"
      ],
      "text/plain": [
       "<IPython.core.display.HTML object>"
      ]
     },
     "metadata": {},
     "output_type": "display_data"
    }
   ],
   "source": [
    "get_tgt()\n",
    "display(HTML('''<style>\n",
    "    .widget-label { height: 6ex !important; }\n",
    "</style>'''))\n",
    "\n",
    "txtsl = widgets.Text(placeholder='Enter words to get attributes for', style= {'button_color':'red'},font_size=1000,\n",
    "                    description='Social groups', value='black people, british people, californians, comedians, millenials, Norway, mormons')"
   ]
  },
  {
   "cell_type": "markdown",
   "metadata": {},
   "source": [
    "Note that, as mentioned in the paper, no stereotypical attributes were found for the category `sexuality` from the search engines, hence none of the groups belonging to this category are included in the dataset. \n",
    "##### Enter group name:"
   ]
  },
  {
   "cell_type": "code",
   "execution_count": 4,
   "metadata": {},
   "outputs": [
    {
     "data": {
      "application/vnd.jupyter.widget-view+json": {
       "model_id": "24f59ab2b2094d2d8dcdee08ef7fc4b7",
       "version_major": 2,
       "version_minor": 0
      },
      "text/plain": [
       "interactive(children=(Text(value='black people, british people, californians, comedians, millenials, Norway, m…"
      ]
     },
     "metadata": {},
     "output_type": "display_data"
    },
    {
     "data": {
      "text/plain": [
       "<function utils.utils.search_engine_stereotypes(names)>"
      ]
     },
     "execution_count": 4,
     "metadata": {},
     "output_type": "execute_result"
    }
   ],
   "source": [
    "interact(search_engine_stereotypes, names=txtsl)"
   ]
  },
  {
   "cell_type": "code",
   "execution_count": 5,
   "metadata": {
    "scrolled": false
   },
   "outputs": [
    {
     "data": {
      "image/png": "[encoded data removed]",
      "text/plain": [
       "<Figure size 432x288 with 1 Axes>"
      ]
     },
     "metadata": {
      "needs_background": "light"
     },
     "output_type": "display_data"
    }
   ],
   "source": [
    "data_distr()"
   ]
  },
  {
   "cell_type": "markdown",
   "metadata": {},
   "source": [
    "## PART 2: Stereotypes from pretrained language models\n",
    "\n",
    "Retrieve the top $k$ language model outputs for a social group from a pretrained model of choice. The returned orderings are: 1. the original ranking based on the language model probability (left), and 2. the ordering re-ranked based on stereotypicality (see $eq. 1,2,3$ in the paper).   \n"
   ]
  },
  {
   "cell_type": "code",
   "execution_count": 6,
   "metadata": {},
   "outputs": [],
   "source": [
    "model_menu = widgets.Dropdown(\n",
    "    options=['BERT-B', 'BERT-L', 'RoBERTa-B', 'RoBERTa-L','BART-B', 'BART-L', 'mBERT', 'XLMR-B', 'XLMR-L'],\n",
    "    value='RoBERTa-L',\n",
    "    description='Model:',\n",
    "    disabled=False,\n",
    ")\n",
    "\n",
    "topk_menu = widgets.BoundedIntText(\n",
    "    value=10,\n",
    "    min=1,\n",
    "    max=200,\n",
    "    step=1,\n",
    "    description='Top k:',\n",
    "    disabled=False\n",
    ")\n",
    "\n",
    "group = widgets.Text(placeholder='Enter words to get attributes for',\n",
    "                    description='Group',  value='politicians')\n",
    "\n",
    "#items = [model_menu, topk_menu, group]\n",
    "#box = Box(children=items)\n",
    "#box[\"Asians\", \"Americans\", \"Jews\", \"Black people\",\n",
    "\n",
    "\n",
    "#get_mlm_output('bert-large-uncased', 'original', 5, 'old people')"
   ]
  },
  {
   "cell_type": "code",
   "execution_count": 7,
   "metadata": {},
   "outputs": [
    {
     "data": {
      "application/vnd.jupyter.widget-view+json": {
       "model_id": "3721698caf3e4a5787dd03d5070f826b",
       "version_major": 2,
       "version_minor": 0
      },
      "text/plain": [
       "interactive(children=(Dropdown(description='Model:', index=3, options=('BERT-B', 'BERT-L', 'RoBERTa-B', 'RoBER…"
      ]
     },
     "metadata": {},
     "output_type": "display_data"
    },
    {
     "data": {
      "text/plain": [
       "<function utils.utils.get_mlm_output(Model, topk, Group)>"
      ]
     },
     "execution_count": 7,
     "metadata": {},
     "output_type": "execute_result"
    }
   ],
   "source": [
    "interact(get_mlm_output, Model=model_menu, topk = topk_menu, Group=group )"
   ]
  },
  {
   "cell_type": "markdown",
   "metadata": {},
   "source": [
    "Retrieve the stereotypes from the search engines that are recalled by a pretrained language model. Specify a model of choice, the social category for which you want to recall stereotypes and the rank $k$ for the top $k$ salient attributes from which you want to compute the recall score. "
   ]
  },
  {
   "cell_type": "code",
   "execution_count": 8,
   "metadata": {},
   "outputs": [
    {
     "data": {
      "application/vnd.jupyter.widget-view+json": {
       "model_id": "6eb0729452a24a0bade349e8b5433134",
       "version_major": 2,
       "version_minor": 0
      },
      "text/plain": [
       "interactive(children=(Dropdown(description='Model', index=2, options=('BERT-B', 'BERT-L', 'RoBERTa-B', 'RoBERT…"
      ]
     },
     "metadata": {},
     "output_type": "display_data"
    },
    {
     "data": {
      "text/plain": [
       "<function probe_mlm.study_results_at_per_cat(m, cat, print_at)>"
      ]
     },
     "execution_count": 8,
     "metadata": {},
     "output_type": "execute_result"
    }
   ],
   "source": [
    "cats = widgets.Dropdown(\n",
    "    options=['age', 'religion', 'political', 'race', 'gender', 'country', 'sexuality', 'lifestyle', 'profession'],\n",
    "    value='race',\n",
    "    description='Category',\n",
    "    disabled=False,\n",
    ")\n",
    "\n",
    "models = widgets.Dropdown(\n",
    "    options=['BERT-B', 'BERT-L', 'RoBERTa-B', 'RoBERTa-L','BART-B', 'BART-L', 'mBERT', 'XLMR-B', 'XLMR-L'],\n",
    "    value='RoBERTa-B',\n",
    "    description='Model',\n",
    "    disabled=False,\n",
    ")\n",
    "\n",
    "recall_at = widgets.BoundedIntText(\n",
    "    value=10,\n",
    "    min=10,\n",
    "    max=200,\n",
    "    step=5,\n",
    "    description='Recall@:',\n",
    "    disabled=False\n",
    ")\n",
    "\n",
    "interact(study_results_at_per_cat, m=models, cat=cats, print_at=recall_at)"
   ]
  },
  {
   "cell_type": "markdown",
   "metadata": {},
   "source": [
    "## PART 3: Emotion scores within models\n",
    "\n",
    "Here you can visualize the emotion profiles within a specificied pretrained model for a number of social groups.\n"
   ]
  },
  {
   "cell_type": "code",
   "execution_count": 9,
   "metadata": {},
   "outputs": [],
   "source": [
    "models = widgets.Dropdown(\n",
    "    options=['BERT-B', 'BERT-L', 'RoBERTa-B', 'RoBERTa-L','BART-B', 'BART-L', 'mBERT', 'XLMR-B', 'XLMR-L'],\n",
    "    value='RoBERTa-B',\n",
    "    description='Model',\n",
    "    disabled=False,\n",
    ")\n",
    "\n",
    "categories = widgets.Dropdown(\n",
    "    options=['age', 'religion', 'political', 'race', 'gender', 'country', 'sexuality', 'lifestyle', 'profession'],\n",
    "    value='race',\n",
    "    description='Category',\n",
    "    disabled=False,\n",
    ")\n",
    "\n",
    "sample_int = widgets.BoundedIntText(\n",
    "    value=10,\n",
    "    min=1,\n",
    "    max=200,\n",
    "    step=1,\n",
    "    description='Sample:',\n",
    "    disabled=False\n",
    ")\n",
    "\n",
    "groups = widgets.Text(placeholder='Enter words to get attributes for',\n",
    "                    description='Group',  value='religious people, homosexuals, liberals, black people, white people, scots, Puerto Rico, Greece, strippers, husbands, poor people, teenagers' )\n"
   ]
  },
  {
   "cell_type": "code",
   "execution_count": 10,
   "metadata": {},
   "outputs": [
    {
     "data": {
      "application/vnd.jupyter.widget-view+json": {
       "model_id": "32f62154c0d04da0a126cfa0dbf3885c",
       "version_major": 2,
       "version_minor": 0
      },
      "text/plain": [
       "interactive(children=(Dropdown(description='Model', index=2, options=('BERT-B', 'BERT-L', 'RoBERTa-B', 'RoBERT…"
      ]
     },
     "metadata": {},
     "output_type": "display_data"
    },
    {
     "data": {
      "text/plain": [
       "<function visualizations.study_emotions.plot_emotion_vectors(Model, Groups)>"
      ]
     },
     "execution_count": 10,
     "metadata": {},
     "output_type": "execute_result"
    }
   ],
   "source": [
    "interact(plot_emotion_vectors, Model=models, Groups=groups )"
   ]
  },
  {
   "cell_type": "markdown",
   "metadata": {},
   "source": [
    "Visualizes the negative, positive and anger scores for social groups in a 3D plot. You should specify the model you want to study, the number of groups that you randomly want to select and the category from which the groups should be sampled."
   ]
  },
  {
   "cell_type": "code",
   "execution_count": 11,
   "metadata": {
    "scrolled": true
   },
   "outputs": [
    {
     "data": {
      "application/vnd.jupyter.widget-view+json": {
       "model_id": "47ea7d8f8ac6471483fbd2238b8e8047",
       "version_major": 2,
       "version_minor": 0
      },
      "text/plain": [
       "interactive(children=(Dropdown(description='Model', index=2, options=('BERT-B', 'BERT-L', 'RoBERTa-B', 'RoBERT…"
      ]
     },
     "metadata": {},
     "output_type": "display_data"
    },
    {
     "data": {
      "text/plain": [
       "<function visualizations.study_emotions_3D.pca_scatterplot_3D(Model, Category, sample=20)>"
      ]
     },
     "execution_count": 11,
     "metadata": {},
     "output_type": "execute_result"
    }
   ],
   "source": [
    "interact(pca_scatterplot_3D, Model=models, Category=categories, sample = sample_int)"
   ]
  },
  {
   "cell_type": "markdown",
   "metadata": {},
   "source": [
    "## Systematic comparison across models\n",
    "\n",
    "Visualisations of the the relative difference in emotion scores between social groups across models as measured by the Representational Similarity Analysis technique (RSA). Specify the social category that you like to study."
   ]
  },
  {
   "cell_type": "code",
   "execution_count": 12,
   "metadata": {},
   "outputs": [
    {
     "data": {
      "application/vnd.jupyter.widget-view+json": {
       "model_id": "6263be7417d649ec8b8ab11df8fb480c",
       "version_major": 2,
       "version_minor": 0
      },
      "text/plain": [
       "interactive(children=(Dropdown(description='Category', index=4, options=('age', 'religion', 'political', 'race…"
      ]
     },
     "metadata": {},
     "output_type": "display_data"
    },
    {
     "data": {
      "text/plain": [
       "<function __main__.view_image(i)>"
      ]
     },
     "execution_count": 12,
     "metadata": {},
     "output_type": "execute_result"
    }
   ],
   "source": [
    "categories = widgets.Dropdown(\n",
    "    options=['age', 'religion', 'political', 'race', 'gender', 'country', 'sexuality', 'lifestyle', 'profession'],\n",
    "    value='gender',\n",
    "    description='Category',\n",
    "    disabled=False,\n",
    ")\n",
    "\n",
    "\n",
    "def view_image(i):\n",
    "    im, cbar = comparison_across_models(i)\n",
    "    display()\n",
    "\n",
    "interact(view_image, i=categories)\n",
    "    \n"
   ]
  },
  {
   "cell_type": "markdown",
   "metadata": {},
   "source": [
    "## PART 4: Stereotype and emotion shift after fine-tuning "
   ]
  },
  {
   "cell_type": "markdown",
   "metadata": {},
   "source": [
    "Visualization of the effect of fine-tuning a pretrained model on different news sources with respect to the emotion profiles within the models (as measured by RSA). Select the model and social category you want to study. "
   ]
  },
  {
   "cell_type": "code",
   "execution_count": 13,
   "metadata": {},
   "outputs": [
    {
     "data": {
      "application/vnd.jupyter.widget-view+json": {
       "model_id": "0216ecd0e20c47febf12af86ad669caf",
       "version_major": 2,
       "version_minor": 0
      },
      "text/plain": [
       "interactive(children=(Dropdown(description='Category', index=4, options=('age', 'religion', 'political', 'race…"
      ]
     },
     "metadata": {},
     "output_type": "display_data"
    },
    {
     "data": {
      "text/plain": [
       "<function __main__.view_image(i, model)>"
      ]
     },
     "execution_count": 13,
     "metadata": {},
     "output_type": "execute_result"
    }
   ],
   "source": [
    "categories = widgets.Dropdown(\n",
    "    options=['age', 'religion', 'political', 'race', 'gender', 'country', 'sexuality', 'lifestyle', 'profession'],\n",
    "    value='gender',\n",
    "    description='Category',\n",
    "    disabled=False,\n",
    ")\n",
    "\n",
    "models = widgets.Dropdown(\n",
    "    options=['BERT-B', 'RoBERTa-B','BART-B', 'mBERT', 'XLMR-B'],\n",
    "    value='BART-B',\n",
    "    description='Model',\n",
    "    disabled=False,\n",
    ")\n",
    "\n",
    "\n",
    "def view_image(i, model):\n",
    "    im, cbar = comparison_within_models(i, model, 'finetuned1epoch')\n",
    "    display()\n",
    "interact(view_image, i=categories, model=models)\n"
   ]
  },
  {
   "cell_type": "markdown",
   "metadata": {},
   "source": [
    "These are the results after fine-tuning BERT-B on different proportions of the news data. Select whether you want to see the effect of the full dataset (finetuned1epoch), half, a quart or a tenth of the dataset. "
   ]
  },
  {
   "cell_type": "code",
   "execution_count": 14,
   "metadata": {},
   "outputs": [
    {
     "data": {
      "application/vnd.jupyter.widget-view+json": {
       "model_id": "0e31722c6393491fb98bedff80be4b14",
       "version_major": 2,
       "version_minor": 0
      },
      "text/plain": [
       "interactive(children=(Dropdown(description='Category', index=4, options=('age', 'religion', 'political', 'race…"
      ]
     },
     "metadata": {},
     "output_type": "display_data"
    },
    {
     "data": {
      "text/plain": [
       "<function __main__.view_image(i, model, finetune)>"
      ]
     },
     "execution_count": 14,
     "metadata": {},
     "output_type": "execute_result"
    }
   ],
   "source": [
    "models = widgets.Dropdown(\n",
    "    options=['BERT-B'],\n",
    "    value='BERT-B',\n",
    "    description='Model',\n",
    "    disabled=False,\n",
    ")\n",
    "\n",
    "finetuned = widgets.Dropdown(\n",
    "    options=['finetuned1epoch', 'finetuned-half','finetuned-quart', 'finetuned-tenth'],\n",
    "    value='finetuned1epoch',\n",
    "    description='Proportion of data',\n",
    "    disabled=False,\n",
    ")\n",
    "\n",
    "def view_image(i, model, finetune):\n",
    "    im, cbar = comparison_within_models(i, model, finetune)\n",
    "    display()\n",
    "interact(view_image, i=categories, model=models, finetune=finetuned)"
   ]
  },
  {
   "cell_type": "markdown",
   "metadata": {},
   "source": [
    "We now show the specific stereotypes that shifts as a result of fine-tuning on a news source. Removed attributes are indicated by red and those added by green. Attributes that persisted after fine-tuning are grey. Please specify the social group for which you want to generate the wordcloud plot and the news source on which the model was pretrained. "
   ]
  },
  {
   "cell_type": "code",
   "execution_count": 15,
   "metadata": {
    "scrolled": false
   },
   "outputs": [
    {
     "data": {
      "application/vnd.jupyter.widget-view+json": {
       "model_id": "9cc4a0e5013c40ed86d5a7e52de20664",
       "version_major": 2,
       "version_minor": 0
      },
      "text/plain": [
       "interactive(children=(Text(value='black people', description='Social groups', placeholder='Enter words to get …"
      ]
     },
     "metadata": {},
     "output_type": "display_data"
    },
    {
     "data": {
      "text/plain": [
       "<function utils.study_stereotypes.get_shifts(interest, source='reuters')>"
      ]
     },
     "execution_count": 15,
     "metadata": {},
     "output_type": "execute_result"
    }
   ],
   "source": [
    "news_source = widgets.Dropdown(\n",
    "    options=['breitbart', 'fox','reuters', 'guardian', 'new_yorker'],\n",
    "    value='guardian',\n",
    "    description='Model',\n",
    "    disabled=False,\n",
    ")\n",
    "\n",
    "txtsl_group = widgets.Text(placeholder='Enter words to get attributes for',font_size=1000,\n",
    "                    description='Social groups', value='black people')\n",
    "\n",
    "\n",
    "interact(get_shifts, interest=txtsl_group, source=news_source )"
   ]
  },
  {
   "cell_type": "code",
   "execution_count": null,
   "metadata": {},
   "outputs": [],
   "source": []
  }
 ],
 "metadata": {
  "kernelspec": {
   "display_name": "Python 3",
   "language": "python",
   "name": "python3"
  },
  "language_info": {
   "codemirror_mode": {
    "name": "ipython",
    "version": 3
   },
   "file_extension": ".py",
   "mimetype": "text/x-python",
   "name": "python",
   "nbconvert_exporter": "python",
   "pygments_lexer": "ipython3",
   "version": "3.7.4"
  }
 },
 "nbformat": 4,
 "nbformat_minor": 2
}
